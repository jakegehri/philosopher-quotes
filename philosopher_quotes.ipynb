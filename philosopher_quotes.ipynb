{
 "cells": [
  {
   "cell_type": "code",
   "execution_count": 1,
   "id": "d6fbc3d4-55e7-4a38-8464-6d7f41d2e22f",
   "metadata": {
    "tags": []
   },
   "outputs": [
    {
     "name": "stdout",
     "output_type": "stream",
     "text": [
      "Collecting fastai\n",
      "  Downloading fastai-2.7.9-py3-none-any.whl (225 kB)\n",
      "\u001b[2K     \u001b[90m━━━━━━━━━━━━━━━━━━━━━━━━━━━━━━━━━━━━━━\u001b[0m \u001b[32m225.5/225.5 kB\u001b[0m \u001b[31m17.4 MB/s\u001b[0m eta \u001b[36m0:00:00\u001b[0m\n",
      "\u001b[?25hCollecting fastbook\n",
      "  Downloading fastbook-0.0.29-py3-none-any.whl (719 kB)\n",
      "\u001b[2K     \u001b[90m━━━━━━━━━━━━━━━━━━━━━━━━━━━━━━━━━━━━━━\u001b[0m \u001b[32m719.8/719.8 kB\u001b[0m \u001b[31m44.2 MB/s\u001b[0m eta \u001b[36m0:00:00\u001b[0m\n",
      "\u001b[?25hRequirement already satisfied: transformers in /usr/local/lib/python3.9/dist-packages (4.20.1)\n",
      "Requirement already satisfied: pandas in /usr/local/lib/python3.9/dist-packages (from fastai) (1.4.3)\n",
      "Requirement already satisfied: spacy<4 in /usr/local/lib/python3.9/dist-packages (from fastai) (3.4.0)\n",
      "Requirement already satisfied: scipy in /usr/local/lib/python3.9/dist-packages (from fastai) (1.8.1)\n",
      "Collecting fastdownload<2,>=0.0.5\n",
      "  Downloading fastdownload-0.0.7-py3-none-any.whl (12 kB)\n",
      "Requirement already satisfied: torchvision>=0.8.2 in /usr/local/lib/python3.9/dist-packages (from fastai) (0.13.0+cu116)\n",
      "Requirement already satisfied: matplotlib in /usr/local/lib/python3.9/dist-packages (from fastai) (3.5.2)\n",
      "Requirement already satisfied: requests in /usr/local/lib/python3.9/dist-packages (from fastai) (2.28.1)\n",
      "Requirement already satisfied: pip in /usr/local/lib/python3.9/dist-packages (from fastai) (22.2.2)\n",
      "Requirement already satisfied: packaging in /usr/local/lib/python3.9/dist-packages (from fastai) (21.3)\n",
      "Requirement already satisfied: torch<1.14,>=1.7 in /usr/local/lib/python3.9/dist-packages (from fastai) (1.12.0+cu116)\n",
      "Collecting fastprogress>=0.2.4\n",
      "  Downloading fastprogress-1.0.3-py3-none-any.whl (12 kB)\n",
      "Requirement already satisfied: scikit-learn in /usr/local/lib/python3.9/dist-packages (from fastai) (1.1.1)\n",
      "Collecting fastcore<1.6,>=1.4.5\n",
      "  Downloading fastcore-1.5.27-py3-none-any.whl (67 kB)\n",
      "\u001b[2K     \u001b[90m━━━━━━━━━━━━━━━━━━━━━━━━━━━━━━━━━━━━━━━━\u001b[0m \u001b[32m67.1/67.1 kB\u001b[0m \u001b[31m14.5 MB/s\u001b[0m eta \u001b[36m0:00:00\u001b[0m\n",
      "\u001b[?25hRequirement already satisfied: pyyaml in /usr/local/lib/python3.9/dist-packages (from fastai) (5.4.1)\n",
      "Requirement already satisfied: pillow>6.0.0 in /usr/local/lib/python3.9/dist-packages (from fastai) (9.2.0)\n",
      "Requirement already satisfied: ipywidgets<8 in /usr/local/lib/python3.9/dist-packages (from fastbook) (7.7.1)\n",
      "Requirement already satisfied: datasets in /usr/local/lib/python3.9/dist-packages (from fastbook) (2.3.2)\n",
      "Collecting graphviz\n",
      "  Downloading graphviz-0.20.1-py3-none-any.whl (47 kB)\n",
      "\u001b[2K     \u001b[90m━━━━━━━━━━━━━━━━━━━━━━━━━━━━━━━━━━━━━━━━\u001b[0m \u001b[32m47.0/47.0 kB\u001b[0m \u001b[31m8.4 MB/s\u001b[0m eta \u001b[36m0:00:00\u001b[0m\n",
      "\u001b[?25hRequirement already satisfied: sentencepiece in /usr/local/lib/python3.9/dist-packages (from fastbook) (0.1.96)\n",
      "Requirement already satisfied: regex!=2019.12.17 in /usr/local/lib/python3.9/dist-packages (from transformers) (2022.7.9)\n",
      "Requirement already satisfied: tokenizers!=0.11.3,<0.13,>=0.11.1 in /usr/local/lib/python3.9/dist-packages (from transformers) (0.12.1)\n",
      "Requirement already satisfied: tqdm>=4.27 in /usr/local/lib/python3.9/dist-packages (from transformers) (4.64.0)\n",
      "Requirement already satisfied: filelock in /usr/local/lib/python3.9/dist-packages (from transformers) (3.7.1)\n",
      "Requirement already satisfied: numpy>=1.17 in /usr/local/lib/python3.9/dist-packages (from transformers) (1.23.1)\n",
      "Requirement already satisfied: huggingface-hub<1.0,>=0.1.0 in /usr/local/lib/python3.9/dist-packages (from transformers) (0.8.1)\n",
      "Requirement already satisfied: typing-extensions>=3.7.4.3 in /usr/local/lib/python3.9/dist-packages (from huggingface-hub<1.0,>=0.1.0->transformers) (4.3.0)\n",
      "Requirement already satisfied: ipython>=4.0.0 in /usr/local/lib/python3.9/dist-packages (from ipywidgets<8->fastbook) (8.4.0)\n",
      "Requirement already satisfied: ipython-genutils~=0.2.0 in /usr/local/lib/python3.9/dist-packages (from ipywidgets<8->fastbook) (0.2.0)\n",
      "Requirement already satisfied: ipykernel>=4.5.1 in /usr/local/lib/python3.9/dist-packages (from ipywidgets<8->fastbook) (6.15.1)\n",
      "Requirement already satisfied: widgetsnbextension~=3.6.0 in /usr/local/lib/python3.9/dist-packages (from ipywidgets<8->fastbook) (3.6.1)\n",
      "Requirement already satisfied: traitlets>=4.3.1 in /usr/local/lib/python3.9/dist-packages (from ipywidgets<8->fastbook) (5.3.0)\n",
      "Requirement already satisfied: jupyterlab-widgets>=1.0.0 in /usr/local/lib/python3.9/dist-packages (from ipywidgets<8->fastbook) (1.1.1)\n",
      "Requirement already satisfied: pyparsing!=3.0.5,>=2.0.2 in /usr/local/lib/python3.9/dist-packages (from packaging->fastai) (3.0.9)\n",
      "Requirement already satisfied: langcodes<4.0.0,>=3.2.0 in /usr/local/lib/python3.9/dist-packages (from spacy<4->fastai) (3.3.0)\n",
      "Requirement already satisfied: murmurhash<1.1.0,>=0.28.0 in /usr/local/lib/python3.9/dist-packages (from spacy<4->fastai) (1.0.7)\n",
      "Requirement already satisfied: pydantic!=1.8,!=1.8.1,<1.10.0,>=1.7.4 in /usr/local/lib/python3.9/dist-packages (from spacy<4->fastai) (1.9.1)\n",
      "Requirement already satisfied: catalogue<2.1.0,>=2.0.6 in /usr/local/lib/python3.9/dist-packages (from spacy<4->fastai) (2.0.7)\n",
      "Requirement already satisfied: cymem<2.1.0,>=2.0.2 in /usr/local/lib/python3.9/dist-packages (from spacy<4->fastai) (2.0.6)\n",
      "Requirement already satisfied: thinc<8.2.0,>=8.1.0 in /usr/local/lib/python3.9/dist-packages (from spacy<4->fastai) (8.1.0)\n",
      "Requirement already satisfied: setuptools in /usr/local/lib/python3.9/dist-packages (from spacy<4->fastai) (63.1.0)\n",
      "Requirement already satisfied: jinja2 in /usr/local/lib/python3.9/dist-packages (from spacy<4->fastai) (3.1.2)\n",
      "Requirement already satisfied: spacy-loggers<2.0.0,>=1.0.0 in /usr/local/lib/python3.9/dist-packages (from spacy<4->fastai) (1.0.2)\n",
      "Requirement already satisfied: typer<0.5.0,>=0.3.0 in /usr/local/lib/python3.9/dist-packages (from spacy<4->fastai) (0.4.2)\n",
      "Requirement already satisfied: wasabi<1.1.0,>=0.9.1 in /usr/local/lib/python3.9/dist-packages (from spacy<4->fastai) (0.9.1)\n",
      "Requirement already satisfied: pathy>=0.3.5 in /usr/local/lib/python3.9/dist-packages (from spacy<4->fastai) (0.6.2)\n",
      "Requirement already satisfied: srsly<3.0.0,>=2.4.3 in /usr/local/lib/python3.9/dist-packages (from spacy<4->fastai) (2.4.3)\n",
      "Requirement already satisfied: preshed<3.1.0,>=3.0.2 in /usr/local/lib/python3.9/dist-packages (from spacy<4->fastai) (3.0.6)\n",
      "Requirement already satisfied: spacy-legacy<3.1.0,>=3.0.9 in /usr/local/lib/python3.9/dist-packages (from spacy<4->fastai) (3.0.9)\n",
      "Requirement already satisfied: idna<4,>=2.5 in /usr/lib/python3/dist-packages (from requests->fastai) (2.8)\n",
      "Requirement already satisfied: charset-normalizer<3,>=2 in /usr/local/lib/python3.9/dist-packages (from requests->fastai) (2.1.0)\n",
      "Requirement already satisfied: urllib3<1.27,>=1.21.1 in /usr/local/lib/python3.9/dist-packages (from requests->fastai) (1.26.10)\n",
      "Requirement already satisfied: certifi>=2017.4.17 in /usr/lib/python3/dist-packages (from requests->fastai) (2019.11.28)\n",
      "Requirement already satisfied: xxhash in /usr/local/lib/python3.9/dist-packages (from datasets->fastbook) (3.0.0)\n",
      "Requirement already satisfied: dill<0.3.6 in /usr/local/lib/python3.9/dist-packages (from datasets->fastbook) (0.3.5.1)\n",
      "Requirement already satisfied: multiprocess in /usr/local/lib/python3.9/dist-packages (from datasets->fastbook) (0.70.13)\n",
      "Requirement already satisfied: responses<0.19 in /usr/local/lib/python3.9/dist-packages (from datasets->fastbook) (0.18.0)\n",
      "Requirement already satisfied: aiohttp in /usr/local/lib/python3.9/dist-packages (from datasets->fastbook) (3.8.1)\n",
      "Requirement already satisfied: fsspec[http]>=2021.05.0 in /usr/local/lib/python3.9/dist-packages (from datasets->fastbook) (2022.5.0)\n",
      "Requirement already satisfied: pyarrow>=6.0.0 in /usr/local/lib/python3.9/dist-packages (from datasets->fastbook) (8.0.0)\n",
      "Requirement already satisfied: cycler>=0.10 in /usr/local/lib/python3.9/dist-packages (from matplotlib->fastai) (0.11.0)\n",
      "Requirement already satisfied: python-dateutil>=2.7 in /usr/local/lib/python3.9/dist-packages (from matplotlib->fastai) (2.8.2)\n",
      "Requirement already satisfied: fonttools>=4.22.0 in /usr/local/lib/python3.9/dist-packages (from matplotlib->fastai) (4.34.4)\n",
      "Requirement already satisfied: kiwisolver>=1.0.1 in /usr/local/lib/python3.9/dist-packages (from matplotlib->fastai) (1.4.3)\n",
      "Requirement already satisfied: pytz>=2020.1 in /usr/local/lib/python3.9/dist-packages (from pandas->fastai) (2022.1)\n",
      "Requirement already satisfied: joblib>=1.0.0 in /usr/local/lib/python3.9/dist-packages (from scikit-learn->fastai) (1.1.0)\n",
      "Requirement already satisfied: threadpoolctl>=2.0.0 in /usr/local/lib/python3.9/dist-packages (from scikit-learn->fastai) (3.1.0)\n",
      "Requirement already satisfied: nest-asyncio in /usr/local/lib/python3.9/dist-packages (from ipykernel>=4.5.1->ipywidgets<8->fastbook) (1.5.5)\n",
      "Requirement already satisfied: tornado>=6.1 in /usr/local/lib/python3.9/dist-packages (from ipykernel>=4.5.1->ipywidgets<8->fastbook) (6.2)\n",
      "Requirement already satisfied: debugpy>=1.0 in /usr/local/lib/python3.9/dist-packages (from ipykernel>=4.5.1->ipywidgets<8->fastbook) (1.6.2)\n",
      "Requirement already satisfied: matplotlib-inline>=0.1 in /usr/local/lib/python3.9/dist-packages (from ipykernel>=4.5.1->ipywidgets<8->fastbook) (0.1.3)\n",
      "Requirement already satisfied: psutil in /usr/local/lib/python3.9/dist-packages (from ipykernel>=4.5.1->ipywidgets<8->fastbook) (5.9.1)\n",
      "Requirement already satisfied: pyzmq>=17 in /usr/local/lib/python3.9/dist-packages (from ipykernel>=4.5.1->ipywidgets<8->fastbook) (23.2.0)\n",
      "Requirement already satisfied: jupyter-client>=6.1.12 in /usr/local/lib/python3.9/dist-packages (from ipykernel>=4.5.1->ipywidgets<8->fastbook) (7.3.4)\n",
      "Requirement already satisfied: stack-data in /usr/local/lib/python3.9/dist-packages (from ipython>=4.0.0->ipywidgets<8->fastbook) (0.3.0)\n",
      "Requirement already satisfied: pickleshare in /usr/local/lib/python3.9/dist-packages (from ipython>=4.0.0->ipywidgets<8->fastbook) (0.7.5)\n",
      "Requirement already satisfied: jedi>=0.16 in /usr/local/lib/python3.9/dist-packages (from ipython>=4.0.0->ipywidgets<8->fastbook) (0.18.1)\n",
      "Requirement already satisfied: backcall in /usr/local/lib/python3.9/dist-packages (from ipython>=4.0.0->ipywidgets<8->fastbook) (0.2.0)\n",
      "Requirement already satisfied: pygments>=2.4.0 in /usr/local/lib/python3.9/dist-packages (from ipython>=4.0.0->ipywidgets<8->fastbook) (2.12.0)\n",
      "Requirement already satisfied: pexpect>4.3 in /usr/local/lib/python3.9/dist-packages (from ipython>=4.0.0->ipywidgets<8->fastbook) (4.8.0)\n",
      "Requirement already satisfied: prompt-toolkit!=3.0.0,!=3.0.1,<3.1.0,>=2.0.0 in /usr/local/lib/python3.9/dist-packages (from ipython>=4.0.0->ipywidgets<8->fastbook) (3.0.30)\n",
      "Requirement already satisfied: decorator in /usr/local/lib/python3.9/dist-packages (from ipython>=4.0.0->ipywidgets<8->fastbook) (5.1.1)\n",
      "Requirement already satisfied: smart-open<6.0.0,>=5.2.1 in /usr/local/lib/python3.9/dist-packages (from pathy>=0.3.5->spacy<4->fastai) (5.2.1)\n",
      "Requirement already satisfied: six>=1.5 in /usr/lib/python3/dist-packages (from python-dateutil>=2.7->matplotlib->fastai) (1.14.0)\n",
      "Requirement already satisfied: blis<0.8.0,>=0.7.8 in /usr/local/lib/python3.9/dist-packages (from thinc<8.2.0,>=8.1.0->spacy<4->fastai) (0.7.8)\n",
      "Requirement already satisfied: click<9.0.0,>=7.1.1 in /usr/local/lib/python3.9/dist-packages (from typer<0.5.0,>=0.3.0->spacy<4->fastai) (8.1.3)\n",
      "Requirement already satisfied: notebook>=4.4.1 in /usr/local/lib/python3.9/dist-packages (from widgetsnbextension~=3.6.0->ipywidgets<8->fastbook) (6.4.12)\n",
      "Requirement already satisfied: frozenlist>=1.1.1 in /usr/local/lib/python3.9/dist-packages (from aiohttp->datasets->fastbook) (1.3.0)\n",
      "Requirement already satisfied: yarl<2.0,>=1.0 in /usr/local/lib/python3.9/dist-packages (from aiohttp->datasets->fastbook) (1.7.2)\n",
      "Requirement already satisfied: attrs>=17.3.0 in /usr/local/lib/python3.9/dist-packages (from aiohttp->datasets->fastbook) (18.2.0)\n",
      "Requirement already satisfied: async-timeout<5.0,>=4.0.0a3 in /usr/local/lib/python3.9/dist-packages (from aiohttp->datasets->fastbook) (4.0.2)\n",
      "Requirement already satisfied: aiosignal>=1.1.2 in /usr/local/lib/python3.9/dist-packages (from aiohttp->datasets->fastbook) (1.2.0)\n",
      "Requirement already satisfied: multidict<7.0,>=4.5 in /usr/local/lib/python3.9/dist-packages (from aiohttp->datasets->fastbook) (6.0.2)\n",
      "Requirement already satisfied: MarkupSafe>=2.0 in /usr/local/lib/python3.9/dist-packages (from jinja2->spacy<4->fastai) (2.1.1)\n",
      "Requirement already satisfied: parso<0.9.0,>=0.8.0 in /usr/local/lib/python3.9/dist-packages (from jedi>=0.16->ipython>=4.0.0->ipywidgets<8->fastbook) (0.8.3)\n",
      "Requirement already satisfied: entrypoints in /usr/local/lib/python3.9/dist-packages (from jupyter-client>=6.1.12->ipykernel>=4.5.1->ipywidgets<8->fastbook) (0.4)\n",
      "Requirement already satisfied: jupyter-core>=4.9.2 in /usr/local/lib/python3.9/dist-packages (from jupyter-client>=6.1.12->ipykernel>=4.5.1->ipywidgets<8->fastbook) (4.11.1)\n",
      "Requirement already satisfied: terminado>=0.8.3 in /usr/local/lib/python3.9/dist-packages (from notebook>=4.4.1->widgetsnbextension~=3.6.0->ipywidgets<8->fastbook) (0.15.0)\n",
      "Requirement already satisfied: argon2-cffi in /usr/local/lib/python3.9/dist-packages (from notebook>=4.4.1->widgetsnbextension~=3.6.0->ipywidgets<8->fastbook) (21.3.0)\n",
      "Requirement already satisfied: nbformat in /usr/local/lib/python3.9/dist-packages (from notebook>=4.4.1->widgetsnbextension~=3.6.0->ipywidgets<8->fastbook) (5.4.0)\n",
      "Requirement already satisfied: nbconvert>=5 in /usr/local/lib/python3.9/dist-packages (from notebook>=4.4.1->widgetsnbextension~=3.6.0->ipywidgets<8->fastbook) (6.5.0)\n",
      "Requirement already satisfied: prometheus-client in /usr/local/lib/python3.9/dist-packages (from notebook>=4.4.1->widgetsnbextension~=3.6.0->ipywidgets<8->fastbook) (0.9.0)\n",
      "Requirement already satisfied: Send2Trash>=1.8.0 in /usr/local/lib/python3.9/dist-packages (from notebook>=4.4.1->widgetsnbextension~=3.6.0->ipywidgets<8->fastbook) (1.8.0)\n",
      "Requirement already satisfied: ptyprocess>=0.5 in /usr/local/lib/python3.9/dist-packages (from pexpect>4.3->ipython>=4.0.0->ipywidgets<8->fastbook) (0.7.0)\n",
      "Requirement already satisfied: wcwidth in /usr/local/lib/python3.9/dist-packages (from prompt-toolkit!=3.0.0,!=3.0.1,<3.1.0,>=2.0.0->ipython>=4.0.0->ipywidgets<8->fastbook) (0.2.5)\n",
      "Requirement already satisfied: asttokens in /usr/local/lib/python3.9/dist-packages (from stack-data->ipython>=4.0.0->ipywidgets<8->fastbook) (2.0.5)\n",
      "Requirement already satisfied: executing in /usr/local/lib/python3.9/dist-packages (from stack-data->ipython>=4.0.0->ipywidgets<8->fastbook) (0.8.3)\n",
      "Requirement already satisfied: pure-eval in /usr/local/lib/python3.9/dist-packages (from stack-data->ipython>=4.0.0->ipywidgets<8->fastbook) (0.2.2)\n",
      "Requirement already satisfied: beautifulsoup4 in /usr/local/lib/python3.9/dist-packages (from nbconvert>=5->notebook>=4.4.1->widgetsnbextension~=3.6.0->ipywidgets<8->fastbook) (4.11.1)\n",
      "Requirement already satisfied: jupyterlab-pygments in /usr/local/lib/python3.9/dist-packages (from nbconvert>=5->notebook>=4.4.1->widgetsnbextension~=3.6.0->ipywidgets<8->fastbook) (0.2.2)\n",
      "Requirement already satisfied: tinycss2 in /usr/local/lib/python3.9/dist-packages (from nbconvert>=5->notebook>=4.4.1->widgetsnbextension~=3.6.0->ipywidgets<8->fastbook) (1.1.1)\n",
      "Requirement already satisfied: nbclient>=0.5.0 in /usr/local/lib/python3.9/dist-packages (from nbconvert>=5->notebook>=4.4.1->widgetsnbextension~=3.6.0->ipywidgets<8->fastbook) (0.6.6)\n",
      "Requirement already satisfied: defusedxml in /usr/local/lib/python3.9/dist-packages (from nbconvert>=5->notebook>=4.4.1->widgetsnbextension~=3.6.0->ipywidgets<8->fastbook) (0.7.1)\n",
      "Requirement already satisfied: bleach in /usr/local/lib/python3.9/dist-packages (from nbconvert>=5->notebook>=4.4.1->widgetsnbextension~=3.6.0->ipywidgets<8->fastbook) (5.0.1)\n",
      "Requirement already satisfied: pandocfilters>=1.4.1 in /usr/local/lib/python3.9/dist-packages (from nbconvert>=5->notebook>=4.4.1->widgetsnbextension~=3.6.0->ipywidgets<8->fastbook) (1.5.0)\n",
      "Requirement already satisfied: mistune<2,>=0.8.1 in /usr/local/lib/python3.9/dist-packages (from nbconvert>=5->notebook>=4.4.1->widgetsnbextension~=3.6.0->ipywidgets<8->fastbook) (0.8.4)\n",
      "Requirement already satisfied: jsonschema>=2.6 in /usr/local/lib/python3.9/dist-packages (from nbformat->notebook>=4.4.1->widgetsnbextension~=3.6.0->ipywidgets<8->fastbook) (4.7.2)\n",
      "Requirement already satisfied: fastjsonschema in /usr/local/lib/python3.9/dist-packages (from nbformat->notebook>=4.4.1->widgetsnbextension~=3.6.0->ipywidgets<8->fastbook) (2.15.3)\n",
      "Requirement already satisfied: argon2-cffi-bindings in /usr/local/lib/python3.9/dist-packages (from argon2-cffi->notebook>=4.4.1->widgetsnbextension~=3.6.0->ipywidgets<8->fastbook) (21.2.0)\n",
      "Requirement already satisfied: pyrsistent!=0.17.0,!=0.17.1,!=0.17.2,>=0.14.0 in /usr/local/lib/python3.9/dist-packages (from jsonschema>=2.6->nbformat->notebook>=4.4.1->widgetsnbextension~=3.6.0->ipywidgets<8->fastbook) (0.18.1)\n",
      "Requirement already satisfied: cffi>=1.0.1 in /usr/local/lib/python3.9/dist-packages (from argon2-cffi-bindings->argon2-cffi->notebook>=4.4.1->widgetsnbextension~=3.6.0->ipywidgets<8->fastbook) (1.15.1)\n",
      "Requirement already satisfied: soupsieve>1.2 in /usr/local/lib/python3.9/dist-packages (from beautifulsoup4->nbconvert>=5->notebook>=4.4.1->widgetsnbextension~=3.6.0->ipywidgets<8->fastbook) (2.3.2.post1)\n",
      "Requirement already satisfied: webencodings in /usr/local/lib/python3.9/dist-packages (from bleach->nbconvert>=5->notebook>=4.4.1->widgetsnbextension~=3.6.0->ipywidgets<8->fastbook) (0.5.1)\n",
      "Requirement already satisfied: pycparser in /usr/local/lib/python3.9/dist-packages (from cffi>=1.0.1->argon2-cffi-bindings->argon2-cffi->notebook>=4.4.1->widgetsnbextension~=3.6.0->ipywidgets<8->fastbook) (2.21)\n",
      "Installing collected packages: graphviz, fastprogress, fastcore, fastdownload, fastai, fastbook\n",
      "Successfully installed fastai-2.7.9 fastbook-0.0.29 fastcore-1.5.27 fastdownload-0.0.7 fastprogress-1.0.3 graphviz-0.20.1\n",
      "\u001b[33mWARNING: Running pip as the 'root' user can result in broken permissions and conflicting behaviour with the system package manager. It is recommended to use a virtual environment instead: https://pip.pypa.io/warnings/venv\u001b[0m\u001b[33m\n",
      "\u001b[0m"
     ]
    }
   ],
   "source": [
    "!pip install fastai fastbook transformers"
   ]
  },
  {
   "cell_type": "code",
   "execution_count": null,
   "id": "b3c3fdf3-0411-4cdd-9268-bcbd46803768",
   "metadata": {},
   "outputs": [],
   "source": [
    "!curl -s https://packagecloud.io/install/repositories/github/git-lfs/script.deb.sh | sudo bash\n",
    "!sudo apt-get install git-lfs"
   ]
  },
  {
   "cell_type": "code",
   "execution_count": 111,
   "id": "0cce021d-d534-4084-a793-084ec203e824",
   "metadata": {
    "tags": []
   },
   "outputs": [],
   "source": [
    "from fastai import *\n",
    "from fastbook import *\n",
    "import pandas as pd\n",
    "from datasets import load_dataset, Dataset, concatenate_datasets, combine, DatasetDict\n",
    "import matplotlib.pyplot as plt\n",
    "from transformers import AutoTokenizer, AutoModelForSequenceClassification\n",
    "from sklearn.metrics import accuracy_score, f1_score\n",
    "from huggingface_hub import notebook_login\n",
    "from transformers import Trainer, TrainingArguments"
   ]
  },
  {
   "cell_type": "code",
   "execution_count": 64,
   "id": "acdc2111-cf68-49e8-bd09-d85ee6c78f54",
   "metadata": {
    "tags": []
   },
   "outputs": [
    {
     "data": {
      "application/vnd.jupyter.widget-view+json": {
       "model_id": "8db5e707a35f4363a3cb6b76989bf2d0",
       "version_major": 2,
       "version_minor": 0
      },
      "text/plain": [
       "VBox(children=(HTML(value='<center> <img\\nsrc=https://huggingface.co/front/assets/huggingface_logo-noborder.sv…"
      ]
     },
     "metadata": {},
     "output_type": "display_data"
    }
   ],
   "source": [
    "notebook_login()"
   ]
  },
  {
   "cell_type": "code",
   "execution_count": 11,
   "id": "a0484905-dc48-427d-8749-27ce302570db",
   "metadata": {
    "tags": []
   },
   "outputs": [],
   "source": [
    "creds = '{\"username\":\"jakegehri\",\"key\":\"3d0213a52bd1816d21037e941bc77569\"}'"
   ]
  },
  {
   "cell_type": "code",
   "execution_count": 12,
   "id": "99d84c66-dac5-4a0d-ba47-95dc8b9f4b02",
   "metadata": {
    "tags": []
   },
   "outputs": [],
   "source": [
    "cred_path = Path('~/.kaggle/kaggle.json').expanduser()"
   ]
  },
  {
   "cell_type": "code",
   "execution_count": 13,
   "id": "a2d45f48-5c89-406e-933d-5d4ba0ddff8a",
   "metadata": {
    "tags": []
   },
   "outputs": [],
   "source": [
    "if not cred_path.exists():\n",
    "    cred_path.parent.mkdir(exist_ok=True)\n",
    "    cred_path.write_text(creds)\n",
    "    cred_path.chmod(0o600)"
   ]
  },
  {
   "cell_type": "code",
   "execution_count": 11,
   "id": "534ae133-af03-40a4-90a9-7bed818117a0",
   "metadata": {
    "execution": {
     "iopub.execute_input": "2022-10-24T23:18:09.158483Z",
     "iopub.status.busy": "2022-10-24T23:18:09.157334Z",
     "iopub.status.idle": "2022-10-24T23:18:10.230260Z",
     "shell.execute_reply": "2022-10-24T23:18:10.228674Z",
     "shell.execute_reply.started": "2022-10-24T23:18:09.158442Z"
    }
   },
   "outputs": [
    {
     "name": "stdout",
     "output_type": "stream",
     "text": [
      "Downloading quotes-by-philosophers.zip to /notebooks\n",
      "  0%|                                                | 0.00/135k [00:00<?, ?B/s]\n",
      "100%|████████████████████████████████████████| 135k/135k [00:00<00:00, 1.71MB/s]\n"
     ]
    }
   ],
   "source": [
    "! kaggle datasets download mertbozkurt5/quotes-by-philosophers"
   ]
  },
  {
   "cell_type": "code",
   "execution_count": 12,
   "id": "b5052929-2f21-44af-8272-fc99e0c02040",
   "metadata": {},
   "outputs": [],
   "source": [
    "! unzip -n -q quotes-by-philosophers.zip"
   ]
  },
  {
   "cell_type": "code",
   "execution_count": 3,
   "id": "1fde499a-6c68-45ec-bb97-81e432000291",
   "metadata": {},
   "outputs": [],
   "source": [
    "path = Path('./philosophers')"
   ]
  },
  {
   "cell_type": "code",
   "execution_count": 120,
   "id": "e573db95-40c0-4003-be9e-bac9bc96fbbd",
   "metadata": {},
   "outputs": [],
   "source": [
    "data = []\n",
    "\n",
    "for name in os.listdir(path):\n",
    "    with open((path/name), encoding='cp1252') as f:\n",
    "        lines = f.readlines()\n",
    "        for i in range(len(lines)):\n",
    "            data.append([lines[i].replace('\\n',''), name.replace('.txt', '').replace('-', ' ')])"
   ]
  },
  {
   "cell_type": "code",
   "execution_count": 121,
   "id": "0015023a-aa33-44ab-aeaa-13ecf02d32d4",
   "metadata": {
    "tags": []
   },
   "outputs": [],
   "source": [
    "df = pd.DataFrame(data).rename(columns={0:'text',1:'label'})"
   ]
  },
  {
   "cell_type": "code",
   "execution_count": 122,
   "id": "c56d42a6-e376-419d-b036-f512cec6fcc3",
   "metadata": {},
   "outputs": [
    {
     "data": {
      "text/html": [
       "<div>\n",
       "<style scoped>\n",
       "    .dataframe tbody tr th:only-of-type {\n",
       "        vertical-align: middle;\n",
       "    }\n",
       "\n",
       "    .dataframe tbody tr th {\n",
       "        vertical-align: top;\n",
       "    }\n",
       "\n",
       "    .dataframe thead th {\n",
       "        text-align: right;\n",
       "    }\n",
       "</style>\n",
       "<table border=\"1\" class=\"dataframe\">\n",
       "  <thead>\n",
       "    <tr style=\"text-align: right;\">\n",
       "      <th></th>\n",
       "      <th>text</th>\n",
       "      <th>label</th>\n",
       "    </tr>\n",
       "  </thead>\n",
       "  <tbody>\n",
       "    <tr>\n",
       "      <th>0</th>\n",
       "      <td>We are our choices.</td>\n",
       "      <td>Jean Paul Sartre</td>\n",
       "    </tr>\n",
       "    <tr>\n",
       "      <th>1</th>\n",
       "      <td>What is life but an unpleasant interruption to a peaceful nonexistence.</td>\n",
       "      <td>Jean Paul Sartre</td>\n",
       "    </tr>\n",
       "    <tr>\n",
       "      <th>2</th>\n",
       "      <td>Every word has consequences. Every silence, too.</td>\n",
       "      <td>Jean Paul Sartre</td>\n",
       "    </tr>\n",
       "    <tr>\n",
       "      <th>3</th>\n",
       "      <td>the worst part about being lied to is knowing you werent worth the truth</td>\n",
       "      <td>Jean Paul Sartre</td>\n",
       "    </tr>\n",
       "    <tr>\n",
       "      <th>4</th>\n",
       "      <td>Only the guy who isn't rowing has time to rock the boat.</td>\n",
       "      <td>Jean Paul Sartre</td>\n",
       "    </tr>\n",
       "  </tbody>\n",
       "</table>\n",
       "</div>"
      ],
      "text/plain": [
       "                                                                       text  \\\n",
       "0                                                       We are our choices.   \n",
       "1   What is life but an unpleasant interruption to a peaceful nonexistence.   \n",
       "2                          Every word has consequences. Every silence, too.   \n",
       "3  the worst part about being lied to is knowing you werent worth the truth   \n",
       "4                  Only the guy who isn't rowing has time to rock the boat.   \n",
       "\n",
       "              label  \n",
       "0  Jean Paul Sartre  \n",
       "1  Jean Paul Sartre  \n",
       "2  Jean Paul Sartre  \n",
       "3  Jean Paul Sartre  \n",
       "4  Jean Paul Sartre  "
      ]
     },
     "execution_count": 122,
     "metadata": {},
     "output_type": "execute_result"
    }
   ],
   "source": [
    "df.head()"
   ]
  },
  {
   "cell_type": "code",
   "execution_count": 123,
   "id": "9a6a368c-08c9-47a3-ab25-3e1e39c58426",
   "metadata": {},
   "outputs": [
    {
     "data": {
      "image/png": "[encoded data removed]",
      "text/plain": [
       "<Figure size 432x288 with 1 Axes>"
      ]
     },
     "metadata": {
      "needs_background": "light"
     },
     "output_type": "display_data"
    }
   ],
   "source": [
    "df['label'].value_counts(ascending=True).plot.barh()\n",
    "plt.title('Philosopher Quote Frequency')\n",
    "plt.show()"
   ]
  },
  {
   "cell_type": "code",
   "execution_count": 124,
   "id": "8e006abb-d699-4b32-8338-f58a542ec585",
   "metadata": {},
   "outputs": [
    {
     "data": {
      "text/plain": [
       "Arthur Schopenhauer Quotes    409\n",
       "Sigmund Freud                 400\n",
       "Aristotle                     387\n",
       "Jean Paul Sartre              329\n",
       "Immanuel Kant                 320\n",
       "Friedrich Nietzsche           251\n",
       "Spinoza                       160\n",
       "Hegel                         130\n",
       "Plato                          72\n",
       "Name: label, dtype: int64"
      ]
     },
     "execution_count": 124,
     "metadata": {},
     "output_type": "execute_result"
    }
   ],
   "source": [
    "df['label'].value_counts()"
   ]
  },
  {
   "cell_type": "code",
   "execution_count": 125,
   "id": "b5c363ee-eb3d-466f-8d86-a497ba1ca4c4",
   "metadata": {
    "tags": []
   },
   "outputs": [
    {
     "data": {
      "image/png": "[encoded data removed]",
      "text/plain": [
       "<Figure size 432x288 with 1 Axes>"
      ]
     },
     "metadata": {
      "needs_background": "light"
     },
     "output_type": "display_data"
    }
   ],
   "source": [
    "df['Words Per Quote'] = df['text'].str.split().apply(len)\n",
    "df.boxplot('Words Per Quote', rot = 90, by='label', grid=False, showfliers=False)\n",
    "plt.suptitle('')\n",
    "plt.xlabel('')\n",
    "plt.show()"
   ]
  },
  {
   "cell_type": "code",
   "execution_count": 126,
   "id": "6c22d9c6-768b-42c9-bd67-447aae314632",
   "metadata": {},
   "outputs": [
    {
     "data": {
      "text/plain": [
       "label\n",
       "Aristotle                     18.700258\n",
       "Arthur Schopenhauer Quotes    29.249389\n",
       "Friedrich Nietzsche           21.721116\n",
       "Hegel                         29.392308\n",
       "Immanuel Kant                 28.596875\n",
       "Jean Paul Sartre              24.878419\n",
       "Plato                         19.902778\n",
       "Sigmund Freud                 28.042500\n",
       "Spinoza                       22.787500\n",
       "Name: Words Per Quote, dtype: float64"
      ]
     },
     "execution_count": 126,
     "metadata": {},
     "output_type": "execute_result"
    }
   ],
   "source": [
    "df.groupby(\"label\")[\"Words Per Quote\"].mean()"
   ]
  },
  {
   "cell_type": "code",
   "execution_count": 127,
   "id": "2f3457cb-b7b1-4eac-aa85-062171f8f3e7",
   "metadata": {},
   "outputs": [],
   "source": [
    "df.drop(labels = 'Words Per Quote', axis=1, inplace=True)"
   ]
  },
  {
   "cell_type": "code",
   "execution_count": 128,
   "id": "004db41a-7d07-4952-bf2d-1261e03b0b8f",
   "metadata": {
    "tags": []
   },
   "outputs": [
    {
     "data": {
      "text/plain": [
       "{'Jean Paul Sartre': 0,\n",
       " 'Aristotle': 1,\n",
       " 'Immanuel Kant': 2,\n",
       " 'Plato': 3,\n",
       " 'Hegel': 4,\n",
       " 'Spinoza': 5,\n",
       " 'Arthur Schopenhauer Quotes': 6,\n",
       " 'Friedrich Nietzsche': 7,\n",
       " 'Sigmund Freud': 8}"
      ]
     },
     "execution_count": 128,
     "metadata": {},
     "output_type": "execute_result"
    }
   ],
   "source": [
    "label_code = {}\n",
    "i = 0\n",
    "\n",
    "for name in df['label'].unique():\n",
    "    label_code[name] = i\n",
    "    i += 1\n",
    "    \n",
    "label_code"
   ]
  },
  {
   "cell_type": "code",
   "execution_count": 129,
   "id": "f3ca5339-e63c-4ec8-b039-2484fcf6271e",
   "metadata": {},
   "outputs": [],
   "source": [
    "df.replace(to_replace=label_code, inplace=True)"
   ]
  },
  {
   "cell_type": "code",
   "execution_count": 130,
   "id": "749fcaa0-b29b-4ade-a279-da16d6482b17",
   "metadata": {},
   "outputs": [
    {
     "data": {
      "text/plain": [
       "9"
      ]
     },
     "execution_count": 130,
     "metadata": {},
     "output_type": "execute_result"
    }
   ],
   "source": [
    "len(df['label'].unique())"
   ]
  },
  {
   "cell_type": "code",
   "execution_count": 131,
   "id": "27176c57-2ec0-4c7b-b8c8-a50cfe8a63a0",
   "metadata": {},
   "outputs": [
    {
     "data": {
      "text/html": [
       "<div>\n",
       "<style scoped>\n",
       "    .dataframe tbody tr th:only-of-type {\n",
       "        vertical-align: middle;\n",
       "    }\n",
       "\n",
       "    .dataframe tbody tr th {\n",
       "        vertical-align: top;\n",
       "    }\n",
       "\n",
       "    .dataframe thead th {\n",
       "        text-align: right;\n",
       "    }\n",
       "</style>\n",
       "<table border=\"1\" class=\"dataframe\">\n",
       "  <thead>\n",
       "    <tr style=\"text-align: right;\">\n",
       "      <th></th>\n",
       "      <th>text</th>\n",
       "      <th>label</th>\n",
       "    </tr>\n",
       "  </thead>\n",
       "  <tbody>\n",
       "    <tr>\n",
       "      <th>0</th>\n",
       "      <td>We are our choices.</td>\n",
       "      <td>0</td>\n",
       "    </tr>\n",
       "    <tr>\n",
       "      <th>1</th>\n",
       "      <td>What is life but an unpleasant interruption to a peaceful nonexistence.</td>\n",
       "      <td>0</td>\n",
       "    </tr>\n",
       "    <tr>\n",
       "      <th>2</th>\n",
       "      <td>Every word has consequences. Every silence, too.</td>\n",
       "      <td>0</td>\n",
       "    </tr>\n",
       "    <tr>\n",
       "      <th>3</th>\n",
       "      <td>the worst part about being lied to is knowing you werent worth the truth</td>\n",
       "      <td>0</td>\n",
       "    </tr>\n",
       "    <tr>\n",
       "      <th>4</th>\n",
       "      <td>Only the guy who isn't rowing has time to rock the boat.</td>\n",
       "      <td>0</td>\n",
       "    </tr>\n",
       "    <tr>\n",
       "      <th>...</th>\n",
       "      <td>...</td>\n",
       "      <td>...</td>\n",
       "    </tr>\n",
       "    <tr>\n",
       "      <th>2453</th>\n",
       "      <td>Lead us, Heavenly Father, lead us O'er the world's tempestuous sea; Guard us, guide us, keep us, feed us, For we have no help but Thee.</td>\n",
       "      <td>8</td>\n",
       "    </tr>\n",
       "    <tr>\n",
       "      <th>2454</th>\n",
       "      <td>The liberty of the individual is no gift of civilization. It was greatest before there was any civilization, though then, it is true, it had for the most part no value, since the individual was scarcely in a position to defend it. The development of civilization imposes restrictions on it, and justice demands that no one shall escape those restrictions.</td>\n",
       "      <td>8</td>\n",
       "    </tr>\n",
       "    <tr>\n",
       "      <th>2455</th>\n",
       "      <td>Towards the outside, at any rate, the ego seems to maintain clear and sharp lines of demarcation. There is only one state -- admittedly an unusual state, but not one that can be stigmatized as pathological -- in which it does not do this. At the height of being in love the boundary between ego and object threatens to melt away. Against all the evidence of his senses, a man who is in love declares that \"I\" and \"you\" are one, and is prepared to behave as if it were a fact.</td>\n",
       "      <td>8</td>\n",
       "    </tr>\n",
       "    <tr>\n",
       "      <th>2456</th>\n",
       "      <td>Civilization runs a greater risk if we maintain our present attitude to religion than if we give it up.</td>\n",
       "      <td>8</td>\n",
       "    </tr>\n",
       "    <tr>\n",
       "      <th>2457</th>\n",
       "      <td>What progress we are making. In the Middle Ages they would have burned me. Now they are content with burning my books.</td>\n",
       "      <td>8</td>\n",
       "    </tr>\n",
       "  </tbody>\n",
       "</table>\n",
       "<p>2458 rows × 2 columns</p>\n",
       "</div>"
      ],
      "text/plain": [
       "                                                                                                                                                                                                                                                                                                                                                                                                                                                                                             text  \\\n",
       "0                                                                                                                                                                                                                                                                                                                                                                                                                                                                             We are our choices.   \n",
       "1                                                                                                                                                                                                                                                                                                                                                                                                                         What is life but an unpleasant interruption to a peaceful nonexistence.   \n",
       "2                                                                                                                                                                                                                                                                                                                                                                                                                                                Every word has consequences. Every silence, too.   \n",
       "3                                                                                                                                                                                                                                                                                                                                                                                                                        the worst part about being lied to is knowing you werent worth the truth   \n",
       "4                                                                                                                                                                                                                                                                                                                                                                                                                                        Only the guy who isn't rowing has time to rock the boat.   \n",
       "...                                                                                                                                                                                                                                                                                                                                                                                                                                                                                           ...   \n",
       "2453                                                                                                                                                                                                                                                                                                                                                      Lead us, Heavenly Father, lead us O'er the world's tempestuous sea; Guard us, guide us, keep us, feed us, For we have no help but Thee.   \n",
       "2454                                                                                                                          The liberty of the individual is no gift of civilization. It was greatest before there was any civilization, though then, it is true, it had for the most part no value, since the individual was scarcely in a position to defend it. The development of civilization imposes restrictions on it, and justice demands that no one shall escape those restrictions.   \n",
       "2455  Towards the outside, at any rate, the ego seems to maintain clear and sharp lines of demarcation. There is only one state -- admittedly an unusual state, but not one that can be stigmatized as pathological -- in which it does not do this. At the height of being in love the boundary between ego and object threatens to melt away. Against all the evidence of his senses, a man who is in love declares that \"I\" and \"you\" are one, and is prepared to behave as if it were a fact.   \n",
       "2456                                                                                                                                                                                                                                                                                                                                                                                      Civilization runs a greater risk if we maintain our present attitude to religion than if we give it up.   \n",
       "2457                                                                                                                                                                                                                                                                                                                                                                       What progress we are making. In the Middle Ages they would have burned me. Now they are content with burning my books.   \n",
       "\n",
       "      label  \n",
       "0         0  \n",
       "1         0  \n",
       "2         0  \n",
       "3         0  \n",
       "4         0  \n",
       "...     ...  \n",
       "2453      8  \n",
       "2454      8  \n",
       "2455      8  \n",
       "2456      8  \n",
       "2457      8  \n",
       "\n",
       "[2458 rows x 2 columns]"
      ]
     },
     "execution_count": 131,
     "metadata": {},
     "output_type": "execute_result"
    }
   ],
   "source": [
    "df"
   ]
  },
  {
   "cell_type": "code",
   "execution_count": 132,
   "id": "ab11436d-9a9c-4a93-8d34-5975312bf425",
   "metadata": {},
   "outputs": [],
   "source": [
    "ds = Dataset.from_pandas(df)"
   ]
  },
  {
   "cell_type": "code",
   "execution_count": 133,
   "id": "f1c94703-78fa-4bfb-865e-a1a2c7c09aa0",
   "metadata": {},
   "outputs": [
    {
     "data": {
      "text/plain": [
       "Dataset({\n",
       "    features: ['text', 'label'],\n",
       "    num_rows: 2458\n",
       "})"
      ]
     },
     "execution_count": 133,
     "metadata": {},
     "output_type": "execute_result"
    }
   ],
   "source": [
    "ds"
   ]
  },
  {
   "cell_type": "code",
   "execution_count": 134,
   "id": "a72a663c-8682-4217-ae40-a5599b36063c",
   "metadata": {},
   "outputs": [],
   "source": [
    "shuffle_ds = ds.shuffle(seed=42)"
   ]
  },
  {
   "cell_type": "code",
   "execution_count": 135,
   "id": "34c02997-c96b-4150-b7cc-8b20a5b1c3a5",
   "metadata": {},
   "outputs": [],
   "source": [
    "final_ds = ds.train_test_split(0.1)"
   ]
  },
  {
   "cell_type": "code",
   "execution_count": 136,
   "id": "bfc80af5-fe21-45bc-b7b3-fe6cf11f0c33",
   "metadata": {},
   "outputs": [
    {
     "data": {
      "text/plain": [
       "DatasetDict({\n",
       "    train: Dataset({\n",
       "        features: ['text', 'label'],\n",
       "        num_rows: 2212\n",
       "    })\n",
       "    test: Dataset({\n",
       "        features: ['text', 'label'],\n",
       "        num_rows: 246\n",
       "    })\n",
       "})"
      ]
     },
     "execution_count": 136,
     "metadata": {},
     "output_type": "execute_result"
    }
   ],
   "source": [
    "final_ds"
   ]
  },
  {
   "cell_type": "code",
   "execution_count": 137,
   "id": "eefe98dd-645a-4b0a-931e-4dd51d4c4a5f",
   "metadata": {},
   "outputs": [],
   "source": [
    "model_cp = 'distilbert-base-uncased'"
   ]
  },
  {
   "cell_type": "code",
   "execution_count": 138,
   "id": "a9eb7404-6d58-4354-8610-26c5d9d0d5e0",
   "metadata": {},
   "outputs": [],
   "source": [
    "tokenizer = AutoTokenizer.from_pretrained(model_cp)"
   ]
  },
  {
   "cell_type": "code",
   "execution_count": 82,
   "id": "b218543b-23fb-4063-998c-a5d77f21e647",
   "metadata": {},
   "outputs": [],
   "source": [
    "def tokenize(batch):\n",
    "    return tokenizer(batch['text'], padding=True, truncation=True)"
   ]
  },
  {
   "cell_type": "code",
   "execution_count": 139,
   "id": "285e4590-067e-4e3c-9b7a-f6dcd8cfd896",
   "metadata": {},
   "outputs": [
    {
     "data": {
      "application/vnd.jupyter.widget-view+json": {
       "model_id": "bc3c8a0cadfa4a1096ebc6180fadd5b7",
       "version_major": 2,
       "version_minor": 0
      },
      "text/plain": [
       "  0%|          | 0/1 [00:00<?, ?ba/s]"
      ]
     },
     "metadata": {},
     "output_type": "display_data"
    },
    {
     "data": {
      "application/vnd.jupyter.widget-view+json": {
       "model_id": "2a18a5fc4e53451f9d178458da4a6fe7",
       "version_major": 2,
       "version_minor": 0
      },
      "text/plain": [
       "  0%|          | 0/1 [00:00<?, ?ba/s]"
      ]
     },
     "metadata": {},
     "output_type": "display_data"
    }
   ],
   "source": [
    "encoded_ds = final_ds.map(tokenize, batched=True, batch_size=None)"
   ]
  },
  {
   "cell_type": "code",
   "execution_count": 175,
   "id": "28f66c13-a6ca-43f9-897a-3a397e506688",
   "metadata": {},
   "outputs": [
    {
     "data": {
      "text/plain": [
       "['text', 'label', 'input_ids', 'attention_mask']"
      ]
     },
     "execution_count": 175,
     "metadata": {},
     "output_type": "execute_result"
    }
   ],
   "source": [
    "encoded_ds['train'].column_names"
   ]
  },
  {
   "cell_type": "code",
   "execution_count": 141,
   "id": "26caea0d-a010-4ee5-8716-b8829730e2e8",
   "metadata": {},
   "outputs": [],
   "source": [
    "model = AutoModelForSequenceClassification.from_pretrained(model_cp, num_labels = 9)"
   ]
  },
  {
   "cell_type": "code",
   "execution_count": 142,
   "id": "d69317fb-4fff-4dbd-add2-a9fa06f5c22a",
   "metadata": {},
   "outputs": [],
   "source": [
    "def compute_metrics(pred):\n",
    "    preds = pred.predictions.argmax(-1)\n",
    "    labels = pred.label_ids\n",
    "    acc = accuracy_score(preds, labels)\n",
    "    f1 = f1_score(preds, labels, average='weighted')\n",
    "    return {\"accuracy\" : acc , \"f1\" : f1}"
   ]
  },
  {
   "cell_type": "code",
   "execution_count": 143,
   "id": "8f41c08e-cc8e-40f3-9e10-7f6e90eeaa50",
   "metadata": {},
   "outputs": [],
   "source": [
    "batch_size = 64\n",
    "logging_steps = len(encoded_ds['train']) // batch_size\n",
    "model_name = f'{model_cp}-finetuned-phil-quotes'\n",
    "training_args = TrainingArguments(output_dir=model_name,\n",
    "                                  num_train_epochs=2,\n",
    "                                  learning_rate=2e-5,\n",
    "                                  per_device_train_batch_size=batch_size,\n",
    "                                  per_device_eval_batch_size=batch_size,\n",
    "                                  weight_decay=0.01,\n",
    "                                  evaluation_strategy='epoch',\n",
    "                                  disable_tqdm=False,\n",
    "                                  logging_steps=logging_steps,\n",
    "                                  push_to_hub=False,\n",
    "                                  log_level='error')"
   ]
  },
  {
   "cell_type": "code",
   "execution_count": 144,
   "id": "0207e924-6f5d-4eee-922f-4a7bd0a4d305",
   "metadata": {},
   "outputs": [],
   "source": [
    "trainer = Trainer(model=model, args=training_args, compute_metrics=compute_metrics,\n",
    "                train_dataset=encoded_ds['train'],\n",
    "                eval_dataset=encoded_ds['test'],\n",
    "                tokenizer=tokenizer)"
   ]
  },
  {
   "cell_type": "code",
   "execution_count": 145,
   "id": "85586471-cca0-498a-92a2-c30520829c0d",
   "metadata": {},
   "outputs": [
    {
     "name": "stderr",
     "output_type": "stream",
     "text": [
      "/usr/local/lib/python3.9/dist-packages/transformers/optimization.py:306: FutureWarning: This implementation of AdamW is deprecated and will be removed in a future version. Use the PyTorch implementation torch.optim.AdamW instead, or set `no_deprecation_warning=True` to disable this warning\n",
      "  warnings.warn(\n"
     ]
    },
    {
     "data": {
      "text/html": [
       "\n",
       "    <div>\n",
       "      \n",
       "      <progress value='70' max='70' style='width:300px; height:20px; vertical-align: middle;'></progress>\n",
       "      [70/70 00:53, Epoch 2/2]\n",
       "    </div>\n",
       "    <table border=\"1\" class=\"dataframe\">\n",
       "  <thead>\n",
       " <tr style=\"text-align: left;\">\n",
       "      <th>Epoch</th>\n",
       "      <th>Training Loss</th>\n",
       "      <th>Validation Loss</th>\n",
       "      <th>Accuracy</th>\n",
       "      <th>F1</th>\n",
       "    </tr>\n",
       "  </thead>\n",
       "  <tbody>\n",
       "    <tr>\n",
       "      <td>1</td>\n",
       "      <td>2.113100</td>\n",
       "      <td>2.044504</td>\n",
       "      <td>0.304878</td>\n",
       "      <td>0.361436</td>\n",
       "    </tr>\n",
       "    <tr>\n",
       "      <td>2</td>\n",
       "      <td>1.989900</td>\n",
       "      <td>2.006916</td>\n",
       "      <td>0.313008</td>\n",
       "      <td>0.358516</td>\n",
       "    </tr>\n",
       "  </tbody>\n",
       "</table><p>"
      ],
      "text/plain": [
       "<IPython.core.display.HTML object>"
      ]
     },
     "metadata": {},
     "output_type": "display_data"
    },
    {
     "data": {
      "text/plain": [
       "TrainOutput(global_step=70, training_loss=2.0480199950081963, metrics={'train_runtime': 55.1274, 'train_samples_per_second': 80.251, 'train_steps_per_second': 1.27, 'total_flos': 165987880415280.0, 'train_loss': 2.0480199950081963, 'epoch': 2.0})"
      ]
     },
     "execution_count": 145,
     "metadata": {},
     "output_type": "execute_result"
    }
   ],
   "source": [
    "trainer.train()"
   ]
  },
  {
   "cell_type": "code",
   "execution_count": 198,
   "id": "85a1d38c-bf47-409d-8044-0be5732721e8",
   "metadata": {
    "tags": []
   },
   "outputs": [],
   "source": [
    "data2 = []\n",
    "\n",
    "for name in os.listdir(path):\n",
    "    with open((path/name), encoding='cp1252', newline='') as f:\n",
    "        lines = f.readlines()\n",
    "        lines = ''.join(lines).replace('\\r\\n', ' ').replace(\"\\'\" , \"\")\n",
    "        data2.append([lines, name.replace('.txt', '').replace('-', ' ')])"
   ]
  },
  {
   "cell_type": "code",
   "execution_count": 199,
   "id": "726d0a41-4b08-41bc-9c77-e2a6f335bf9a",
   "metadata": {},
   "outputs": [],
   "source": [
    "len_words = []\n",
    "words = []\n",
    "for i in range(len(data2)):\n",
    "    len_words.append([len(data2[i][0].split()), data2[i][1]])\n",
    "    words.append([data2[i][0].split(), data2[i][1]])"
   ]
  },
  {
   "cell_type": "code",
   "execution_count": 200,
   "id": "468d02c6-30a1-4672-b2a5-072250faae4d",
   "metadata": {},
   "outputs": [],
   "source": [
    "train_words = []\n",
    "val_words = []\n",
    "\n",
    "for i in range(len(words)):\n",
    "    train_words.append([words[i][0][690:], words[i][1]])\n",
    "    val_words.append([words[i][0][:690],words[i][1]])"
   ]
  },
  {
   "cell_type": "code",
   "execution_count": 201,
   "id": "a200e85b-4226-4583-9c14-8457a46d88e0",
   "metadata": {
    "tags": []
   },
   "outputs": [
    {
     "data": {
      "text/plain": [
       "(6210, 690)"
      ]
     },
     "execution_count": 201,
     "metadata": {},
     "output_type": "execute_result"
    }
   ],
   "source": [
    "avg = int((np.array(len_words)[:,0].astype(int).mean()-1).round())\n",
    "avg-690, 690"
   ]
  },
  {
   "cell_type": "code",
   "execution_count": 206,
   "id": "222eda88-a39e-44b7-9863-2f6084c37ab7",
   "metadata": {},
   "outputs": [
    {
     "name": "stdout",
     "output_type": "stream",
     "text": [
      "0 Correct length\n",
      "7495 690\n",
      "1 Correct length\n",
      "6547 690\n",
      "2 Correct length\n",
      "8461 690\n",
      "3 Correct length\n",
      "11888 690\n",
      "4 Correct length\n",
      "6262 690\n",
      "5 Correct length\n",
      "11824 690\n",
      "6 Correct length\n",
      "11273 690\n",
      "7 Correct length\n",
      "9524 690\n",
      "8 Correct length\n",
      "10527 690\n"
     ]
    }
   ],
   "source": [
    "for i in range(len(words)):\n",
    "    if len(train_words[i][0]) > avg-690:\n",
    "        print(i, 'Correct length')\n",
    "    else:\n",
    "        train_words[i][0].extend(train_words[i][0]) \n",
    "    print(len(train_words[i][0]), len(val_words[i][0]))"
   ]
  },
  {
   "cell_type": "code",
   "execution_count": 207,
   "id": "ed25ee27-07fc-442f-a7be-9dd7e5b7d6cd",
   "metadata": {},
   "outputs": [],
   "source": [
    "for i in range(len(train_words)):\n",
    "    train_words[i][0] = train_words[i][0][0:(avg-690)]"
   ]
  },
  {
   "cell_type": "code",
   "execution_count": 208,
   "id": "b7e8c8f6-07cb-442d-9e01-a66d1ab0a1e6",
   "metadata": {},
   "outputs": [
    {
     "name": "stdout",
     "output_type": "stream",
     "text": [
      "6210 690\n",
      "6210 690\n",
      "6210 690\n",
      "6210 690\n",
      "6210 690\n",
      "6210 690\n",
      "6210 690\n",
      "6210 690\n",
      "6210 690\n"
     ]
    }
   ],
   "source": [
    "for i in range(len(train_words)):\n",
    "    print(len(train_words[i][0]), len(val_words[i][0]))"
   ]
  },
  {
   "cell_type": "code",
   "execution_count": 209,
   "id": "d9bf6aa5-f045-45e6-bfd0-43bb26b329d0",
   "metadata": {},
   "outputs": [],
   "source": [
    "train_words[0][0] = ' '.join(train_words[0][0])\n",
    "train_words[1][0] = ' '.join(train_words[1][0])\n",
    "train_words[2][0] = ' '.join(train_words[2][0])\n",
    "train_words[3][0] = ' '.join(train_words[3][0])\n",
    "train_words[4][0] = ' '.join(train_words[4][0])\n",
    "train_words[5][0] = ' '.join(train_words[5][0])\n",
    "train_words[6][0] = ' '.join(train_words[6][0])\n",
    "train_words[7][0] = ' '.join(train_words[7][0])\n",
    "train_words[8][0] = ' '.join(train_words[8][0])"
   ]
  },
  {
   "cell_type": "code",
   "execution_count": 210,
   "id": "72c36a21-fb73-43b1-b040-22b2d143c4d8",
   "metadata": {},
   "outputs": [],
   "source": [
    "val_words[0][0] = ' '.join(val_words[0][0])\n",
    "val_words[1][0] = ' '.join(val_words[1][0])\n",
    "val_words[2][0] = ' '.join(val_words[2][0])\n",
    "val_words[3][0] = ' '.join(val_words[3][0])\n",
    "val_words[4][0] = ' '.join(val_words[4][0])\n",
    "val_words[5][0] = ' '.join(val_words[5][0])\n",
    "val_words[6][0] = ' '.join(val_words[6][0])\n",
    "val_words[7][0] = ' '.join(val_words[7][0])\n",
    "val_words[8][0] = ' '.join(val_words[8][0])"
   ]
  },
  {
   "cell_type": "code",
   "execution_count": 211,
   "id": "c8a66e78-f241-4166-a9ce-866abe1d95e3",
   "metadata": {},
   "outputs": [],
   "source": [
    "def splitter(n, s):\n",
    "    pieces = s.split()\n",
    "    return (\" \".join(pieces[i:i+n]) for i in range(0, len(pieces), n))"
   ]
  },
  {
   "cell_type": "code",
   "execution_count": 212,
   "id": "4a318f18-1a47-40ad-a0ba-290df31f133d",
   "metadata": {},
   "outputs": [],
   "source": [
    "train_final = []\n",
    "\n",
    "for i in range(len(train_words)):\n",
    "    for piece in splitter(30, train_words[0][0]):\n",
    "        train_final.append([piece, train_words[i][1]])"
   ]
  },
  {
   "cell_type": "code",
   "execution_count": 213,
   "id": "8bee623e-f3b8-478f-8bfe-e3868e1e191a",
   "metadata": {},
   "outputs": [
    {
     "data": {
      "text/plain": [
       "['choices. We do not judge the people we love. Man is not the sum of what he has already, but rather the sum of what he does not yet have,',\n",
       " 'Jean Paul Sartre']"
      ]
     },
     "execution_count": 213,
     "metadata": {},
     "output_type": "execute_result"
    }
   ],
   "source": [
    "train_final[0]"
   ]
  },
  {
   "cell_type": "code",
   "execution_count": 214,
   "id": "d01847c3-8e9f-4588-9b5b-f169ef4b9dc0",
   "metadata": {},
   "outputs": [],
   "source": [
    "valid_final = []\n",
    "\n",
    "for i in range(len(val_words)):\n",
    "    for piece in splitter(30, val_words[0][0]):\n",
    "        valid_final.append([piece, val_words[i][1]])"
   ]
  },
  {
   "cell_type": "code",
   "execution_count": 215,
   "id": "5dfcafea-9016-4697-ac64-9c6eaee8713a",
   "metadata": {},
   "outputs": [],
   "source": [
    "df_train = pd.DataFrame(train_final).rename(columns={0:'text',1:'label'})\n",
    "df_valid = pd.DataFrame(valid_final).rename(columns={0:'text',1:'label'})"
   ]
  },
  {
   "cell_type": "code",
   "execution_count": 216,
   "id": "d0283a99-a0d6-4d6b-ab15-b49e87a7a7e2",
   "metadata": {},
   "outputs": [],
   "source": [
    "df_train.replace(to_replace=label_code, inplace=True)\n",
    "df_valid.replace(to_replace=label_code, inplace=True)"
   ]
  },
  {
   "cell_type": "code",
   "execution_count": 217,
   "id": "804faf01-c43c-463e-93d6-678bf1a017f6",
   "metadata": {},
   "outputs": [],
   "source": [
    "ds_train = Dataset.from_pandas(df_train)\n",
    "ds_valid = Dataset.from_pandas(df_valid)"
   ]
  },
  {
   "cell_type": "code",
   "execution_count": 218,
   "id": "fb7cc76a-c29d-476c-b817-0e3552a1ec29",
   "metadata": {},
   "outputs": [],
   "source": [
    "shuffled_ds_train = ds_train.shuffle(seed=42)\n",
    "shuffled_ds_valid = ds_valid.shuffle(seed=42)"
   ]
  },
  {
   "cell_type": "code",
   "execution_count": 219,
   "id": "719b98bb-0541-4636-889a-256b83bf8263",
   "metadata": {},
   "outputs": [
    {
     "data": {
      "text/plain": [
       "Dataset({\n",
       "    features: ['text', 'label'],\n",
       "    num_rows: 1863\n",
       "})"
      ]
     },
     "execution_count": 219,
     "metadata": {},
     "output_type": "execute_result"
    }
   ],
   "source": [
    "shuffled_ds_train"
   ]
  },
  {
   "cell_type": "code",
   "execution_count": 220,
   "id": "f35dc2cf-53a8-4ad1-9a08-3e962f34a02e",
   "metadata": {},
   "outputs": [
    {
     "data": {
      "text/plain": [
       "Dataset({\n",
       "    features: ['text', 'label'],\n",
       "    num_rows: 207\n",
       "})"
      ]
     },
     "execution_count": 220,
     "metadata": {},
     "output_type": "execute_result"
    }
   ],
   "source": [
    "shuffled_ds_valid"
   ]
  },
  {
   "cell_type": "code",
   "execution_count": 221,
   "id": "87067356-69fe-4960-ae85-f3d4e507a11b",
   "metadata": {},
   "outputs": [],
   "source": [
    "train_valid_dataset = DatasetDict({\n",
    "    'train': shuffled_ds_train,\n",
    "    'valid': shuffled_ds_valid})"
   ]
  },
  {
   "cell_type": "code",
   "execution_count": 222,
   "id": "c4a56ff5-d52a-49a8-8dc3-8a4b327c7749",
   "metadata": {},
   "outputs": [
    {
     "data": {
      "application/vnd.jupyter.widget-view+json": {
       "model_id": "253455613ac8459b8c42901af03c82bf",
       "version_major": 2,
       "version_minor": 0
      },
      "text/plain": [
       "  0%|          | 0/1 [00:00<?, ?ba/s]"
      ]
     },
     "metadata": {},
     "output_type": "display_data"
    },
    {
     "data": {
      "application/vnd.jupyter.widget-view+json": {
       "model_id": "a2883a0f7b2d488ebcfc482ffb92af89",
       "version_major": 2,
       "version_minor": 0
      },
      "text/plain": [
       "  0%|          | 0/1 [00:00<?, ?ba/s]"
      ]
     },
     "metadata": {},
     "output_type": "display_data"
    }
   ],
   "source": [
    "final = train_valid_dataset.map(tokenize, batched=True, batch_size=None)"
   ]
  },
  {
   "cell_type": "code",
   "execution_count": 223,
   "id": "3604cbc2-3ffd-4910-86c0-7f71d37eacca",
   "metadata": {},
   "outputs": [
    {
     "data": {
      "text/plain": [
       "'passion. He will never agree that a sweeping passion is a ravaging torrent which fatally leads a man to certain acts and is therefore an excuse. He thinks that man'"
      ]
     },
     "execution_count": 223,
     "metadata": {},
     "output_type": "execute_result"
    }
   ],
   "source": [
    "final['train']['text'][0]"
   ]
  },
  {
   "cell_type": "code",
   "execution_count": 224,
   "id": "a5918781-75c7-4211-a866-845dbd68d49c",
   "metadata": {},
   "outputs": [
    {
     "data": {
      "text/plain": [
       "0"
      ]
     },
     "execution_count": 224,
     "metadata": {},
     "output_type": "execute_result"
    }
   ],
   "source": [
    "final['train']['label'][0]"
   ]
  },
  {
   "cell_type": "code",
   "execution_count": 225,
   "id": "bd1035eb-8fd3-485f-a281-0e311945adbe",
   "metadata": {},
   "outputs": [],
   "source": [
    "batch_size = 64\n",
    "logging_steps = len(final['train']) // batch_size\n",
    "model_name = f'{model_cp}-finetuned-phil-quotes-2'\n",
    "training_args = TrainingArguments(output_dir=model_name,\n",
    "                                  num_train_epochs=2,\n",
    "                                  learning_rate=2e-5,\n",
    "                                  per_device_train_batch_size=batch_size,\n",
    "                                  per_device_eval_batch_size=batch_size,\n",
    "                                  weight_decay=0.01,\n",
    "                                  evaluation_strategy='epoch',\n",
    "                                  disable_tqdm=False,\n",
    "                                  logging_steps=logging_steps,\n",
    "                                  push_to_hub=False,\n",
    "                                  log_level='error')"
   ]
  },
  {
   "cell_type": "code",
   "execution_count": 226,
   "id": "0b995603-2c03-4bf2-a49a-e4fabb41db0a",
   "metadata": {},
   "outputs": [],
   "source": [
    "trainer = Trainer(model=model, args=training_args, compute_metrics=compute_metrics,\n",
    "                train_dataset=final['train'],\n",
    "                eval_dataset=final['valid'],\n",
    "                tokenizer=tokenizer)"
   ]
  },
  {
   "cell_type": "code",
   "execution_count": 227,
   "id": "6fbacf71-ffbb-47c3-9a79-d006607bb629",
   "metadata": {},
   "outputs": [
    {
     "name": "stderr",
     "output_type": "stream",
     "text": [
      "/usr/local/lib/python3.9/dist-packages/transformers/optimization.py:306: FutureWarning: This implementation of AdamW is deprecated and will be removed in a future version. Use the PyTorch implementation torch.optim.AdamW instead, or set `no_deprecation_warning=True` to disable this warning\n",
      "  warnings.warn(\n"
     ]
    },
    {
     "data": {
      "text/html": [
       "\n",
       "    <div>\n",
       "      \n",
       "      <progress value='60' max='60' style='width:300px; height:20px; vertical-align: middle;'></progress>\n",
       "      [60/60 00:14, Epoch 2/2]\n",
       "    </div>\n",
       "    <table border=\"1\" class=\"dataframe\">\n",
       "  <thead>\n",
       " <tr style=\"text-align: left;\">\n",
       "      <th>Epoch</th>\n",
       "      <th>Training Loss</th>\n",
       "      <th>Validation Loss</th>\n",
       "      <th>Accuracy</th>\n",
       "      <th>F1</th>\n",
       "    </tr>\n",
       "  </thead>\n",
       "  <tbody>\n",
       "    <tr>\n",
       "      <td>1</td>\n",
       "      <td>2.213100</td>\n",
       "      <td>2.197844</td>\n",
       "      <td>0.111111</td>\n",
       "      <td>0.167001</td>\n",
       "    </tr>\n",
       "    <tr>\n",
       "      <td>2</td>\n",
       "      <td>2.201900</td>\n",
       "      <td>2.197696</td>\n",
       "      <td>0.111111</td>\n",
       "      <td>0.148789</td>\n",
       "    </tr>\n",
       "  </tbody>\n",
       "</table><p>"
      ],
      "text/plain": [
       "<IPython.core.display.HTML object>"
      ]
     },
     "metadata": {},
     "output_type": "display_data"
    },
    {
     "data": {
      "text/plain": [
       "TrainOutput(global_step=60, training_loss=2.207453234990438, metrics={'train_runtime': 14.5688, 'train_samples_per_second': 255.751, 'train_steps_per_second': 4.118, 'total_flos': 48206556901800.0, 'train_loss': 2.207453234990438, 'epoch': 2.0})"
      ]
     },
     "execution_count": 227,
     "metadata": {},
     "output_type": "execute_result"
    }
   ],
   "source": [
    "trainer.train()"
   ]
  },
  {
   "cell_type": "code",
   "execution_count": null,
   "id": "d82cce13-af05-4df1-988f-d7b634226a8a",
   "metadata": {},
   "outputs": [],
   "source": []
  }
 ],
 "metadata": {
  "kernelspec": {
   "display_name": "Python 3 (ipykernel)",
   "language": "python",
   "name": "python3"
  },
  "language_info": {
   "codemirror_mode": {
    "name": "ipython",
    "version": 3
   },
   "file_extension": ".py",
   "mimetype": "text/x-python",
   "name": "python",
   "nbconvert_exporter": "python",
   "pygments_lexer": "ipython3",
   "version": "3.9.13"
  }
 },
 "nbformat": 4,
 "nbformat_minor": 5
}
